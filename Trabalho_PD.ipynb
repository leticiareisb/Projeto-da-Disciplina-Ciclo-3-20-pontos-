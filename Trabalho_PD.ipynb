{
  "nbformat": 4,
  "nbformat_minor": 0,
  "metadata": {
    "colab": {
      "provenance": [],
      "include_colab_link": true
    },
    "kernelspec": {
      "name": "python3",
      "display_name": "Python 3"
    },
    "language_info": {
      "name": "python"
    }
  },
  "cells": [
    {
      "cell_type": "markdown",
      "metadata": {
        "id": "view-in-github",
        "colab_type": "text"
      },
      "source": [
        "<a href=\"https://colab.research.google.com/github/leticiareisb/Projeto-da-Disciplina-Ciclo-3-20-pontos-/blob/main/Trabalho_PD.ipynb\" target=\"_parent\"><img src=\"https://colab.research.google.com/assets/colab-badge.svg\" alt=\"Open In Colab\"/></a>"
      ]
    },
    {
      "cell_type": "code",
      "execution_count": null,
      "metadata": {
        "colab": {
          "base_uri": "https://localhost:8080/"
        },
        "id": "TwhGACgJ3CaI",
        "outputId": "07c4ba3a-a3d6-4861-f288-6e5308b4d284"
      },
      "outputs": [
        {
          "output_type": "stream",
          "name": "stdout",
          "text": [
            "Total de pixels na imagem: 6001875\n",
            "Pixels sem dados (código 0): 3615505\n",
            "Pixels de plantio de soja (código 39): 113866\n",
            "Pixels de pastagem (código 15): 462062\n",
            "Área de plantio de soja em hectares: 40633109.08 hectares\n",
            "Área de pastagem em hectares: 164886934.20 hectares\n"
          ]
        }
      ],
      "source": [
        "import cv2\n",
        "import numpy as np\n",
        "\n",
        "# Carregar a imagem de satélite\n",
        "# Para carregar a imagem, substitua o caminho abaixo pelo arquivo local ou URL\n",
        "imagem = cv2.imread('brasil.png', cv2.IMREAD_GRAYSCALE)\n",
        "\n",
        "# Verificando as dimensões da imagem\n",
        "altura, largura = imagem.shape\n",
        "total_pixels = altura * largura\n",
        "\n",
        "# Contagem de pixels para cada categoria\n",
        "pixels_sem_dados = np.sum(imagem == 0)\n",
        "pixels_soja = np.sum(imagem == 39)\n",
        "pixels_pastagem = np.sum(imagem == 15)\n",
        "\n",
        "# Imprimindo os resultados em termos de pixels\n",
        "print(f\"Total de pixels na imagem: {total_pixels}\")\n",
        "print(f\"Pixels sem dados (código 0): {pixels_sem_dados}\")\n",
        "print(f\"Pixels de plantio de soja (código 39): {pixels_soja}\")\n",
        "print(f\"Pixels de pastagem (código 15): {pixels_pastagem}\")\n",
        "\n",
        "# Para converter pixels em hectares, usamos a área total do Brasil\n",
        "# A área total do Brasil em hectares\n",
        "area_brasil_hectares = 8515767 * 100  # 8.515.767 km² = 851.576.700 hectares\n",
        "\n",
        "# Subtrair os pixels sem dados para obter a área de cobertura efetiva\n",
        "pixels_com_dados = total_pixels - pixels_sem_dados\n",
        "\n",
        "# Calculando as áreas em hectares\n",
        "# A área em hectares é proporcional aos pixels na imagem\n",
        "percentual_soja = pixels_soja / pixels_com_dados\n",
        "percentual_pastagem = pixels_pastagem / pixels_com_dados\n",
        "\n",
        "area_soja_hectares = percentual_soja * area_brasil_hectares\n",
        "area_pastagem_hectares = percentual_pastagem * area_brasil_hectares\n",
        "\n",
        "# Exibindo os resultados\n",
        "print(f\"Área de plantio de soja em hectares: {area_soja_hectares:.2f} hectares\")\n",
        "print(f\"Área de pastagem em hectares: {area_pastagem_hectares:.2f} hectares\")\n"
      ]
    }
  ]
}